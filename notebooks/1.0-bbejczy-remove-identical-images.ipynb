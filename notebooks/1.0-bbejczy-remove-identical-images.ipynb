{
 "cells": [
  {
   "cell_type": "code",
   "execution_count": 26,
   "metadata": {},
   "outputs": [],
   "source": [
    "import os\n",
    "import cv2\n",
    "import matplotlib.pyplot as plt\n",
    "from skimage.metrics import structural_similarity\n",
    "from skimage.metrics import normalized_root_mse\n",
    "from image_similarity_measures.quality_metrics import ssim\n",
    "from sklearn.preprocessing import normalize\n",
    "import numpy as np\n",
    "import time\n",
    "\n",
    "\n",
    "ROOT_DATA_DIR = \"../data/raw/\"\n",
    "\n",
    "%matplotlib inline"
   ]
  },
  {
   "cell_type": "markdown",
   "metadata": {},
   "source": [
    "## Find all bag files and images"
   ]
  },
  {
   "cell_type": "code",
   "execution_count": 5,
   "metadata": {},
   "outputs": [],
   "source": [
    "def listdir_fullpath(dir):\n",
    "    folder_list = [os.path.join(dir, folder) for folder in os.listdir(dir)]\n",
    "    folder_list.sort()\n",
    "    return folder_list\n",
    "\n",
    "\n",
    "bags_list = listdir_fullpath(ROOT_DATA_DIR)"
   ]
  },
  {
   "cell_type": "code",
   "execution_count": 23,
   "metadata": {},
   "outputs": [],
   "source": [
    "rgb_path_list = []\n",
    "for root, dirs, files in os.walk(bags_list[2]):\n",
    "    for name in files:\n",
    "        if name.endswith((\".png\")) & (\"depth\" not in str(root)):\n",
    "            rgb_path_list.append(os.path.join(root, name))"
   ]
  },
  {
   "cell_type": "markdown",
   "metadata": {},
   "source": [
    "# Remove identical images from sequence"
   ]
  },
  {
   "cell_type": "markdown",
   "metadata": {},
   "source": [
    "**Usual approaches** -> [link](https://pyimagesearch.com/2014/09/15/python-compare-two-images/)\n",
    "- Mean Squared Error (MSE)\n",
    "  - golbal image\n",
    "  - faster to compute\n",
    "- Structural Similarity Index (SSIM)\n",
    "  - implemented by `scikit-image`\n",
    "  - generally slower\n",
    "  - focuses on local patches\n",
    "- Keypoint methods: SIFT, SURF, ORB"
   ]
  },
  {
   "cell_type": "code",
   "execution_count": 27,
   "metadata": {},
   "outputs": [],
   "source": [
    "def mse(imageA, imageB):\n",
    "    # the 'Mean Squared Error' between the two images is the\n",
    "    # sum of the squared difference between the two images;\n",
    "    # NOTE: the two images must have the same dimension\n",
    "    err = np.sum((imageA.astype(\"float\") - imageB.astype(\"float\")) ** 2)\n",
    "    err /= float(imageA.shape[0] * imageA.shape[1])\n",
    "\n",
    "    # return the MSE, the lower the error, the more \"similar\"\n",
    "    # the two images are\n",
    "    return err\n",
    "\n",
    "\n",
    "def compare_images(imageA, imageB, title, plot=False):\n",
    "    # compute the mean squared error and structural similarity\n",
    "    # index for the images\n",
    "    m = ssim(\n",
    "        org_img=imageA,\n",
    "        pred_img=imageB,\n",
    "    )\n",
    "    s = structural_similarity(\n",
    "        imageA,\n",
    "        imageB,\n",
    "    )\n",
    "    n = normalized_root_mse(imageA, imageB)\n",
    "    if plot:\n",
    "        # setup the figure\n",
    "        fig = plt.figure(title)\n",
    "        plt.suptitle(\"MSE: %.2f, SSIM: %.2f, NRMSE: %.2f\" % (m, s, n))\n",
    "        # show first image\n",
    "        ax = fig.add_subplot(1, 2, 1)\n",
    "        plt.imshow(imageA, cmap=plt.cm.gray)\n",
    "        plt.axis(\"off\")\n",
    "        # show the second image\n",
    "        ax = fig.add_subplot(1, 2, 2)\n",
    "        plt.imshow(imageB, cmap=plt.cm.gray)\n",
    "        plt.axis(\"off\")\n",
    "        # show the images\n",
    "        plt.show()\n",
    "\n",
    "    return m, s"
   ]
  },
  {
   "cell_type": "code",
   "execution_count": 5,
   "metadata": {},
   "outputs": [],
   "source": [
    "def loop_image_comparison(rgb_path: str):\n",
    "    mse_list = []\n",
    "    ssim_list = []\n",
    "    first_image = rgb_path_list[-2]\n",
    "    rgb_range = rgb_path_list\n",
    "    for image in rgb_range:\n",
    "        im = cv2.imread(first_image, cv2.IMREAD_GRAYSCALE)\n",
    "        im2 = cv2.imread(image, cv2.IMREAD_GRAYSCALE)\n",
    "        m, s = compare_images(im, im2, \"title\", plot=False)\n",
    "        mse_list.append(m)\n",
    "        ssim_list.append(s)\n",
    "        first_image = image\n",
    "\n",
    "    # max_mse = max(mse_list)\n",
    "    # ssim_list = list(map(lambda x: x*max_mse, ssim_list))\n",
    "\n",
    "    mse_list_norm = normalize([mse_list])\n",
    "\n",
    "    plt.plot(range(0, len(rgb_range)), mse_list_norm[0], label=\"mse\")\n",
    "    plt.plot(range(0, len(rgb_range)), ssim_list, label=\"ssim\")\n",
    "    plt.legend()\n",
    "    plt.show()"
   ]
  },
  {
   "cell_type": "code",
   "execution_count": 6,
   "metadata": {},
   "outputs": [],
   "source": [
    "# loop_image_comparison(rgb_path_list)"
   ]
  },
  {
   "cell_type": "code",
   "execution_count": null,
   "metadata": {},
   "outputs": [],
   "source": [
    "im = cv2.imread(rgb_path_list[0], cv2.IMREAD_GRAYSCALE)\n",
    "im2 = cv2.imread(rgb_path_list[170], cv2.IMREAD_GRAYSCALE)\n",
    "\n",
    "compare_images(im, im2, \"Example\", plot=True)"
   ]
  },
  {
   "cell_type": "code",
   "execution_count": null,
   "metadata": {},
   "outputs": [],
   "source": []
  }
 ],
 "metadata": {
  "kernelspec": {
   "display_name": "multitask-mayhem",
   "language": "python",
   "name": "python3"
  },
  "language_info": {
   "codemirror_mode": {
    "name": "ipython",
    "version": 3
   },
   "file_extension": ".py",
   "mimetype": "text/x-python",
   "name": "python",
   "nbconvert_exporter": "python",
   "pygments_lexer": "ipython3",
   "version": "3.9.15"
  },
  "orig_nbformat": 4,
  "vscode": {
   "interpreter": {
    "hash": "2caba22eca3b8e03bae005f76f65f0bc30813bc5024a8738418f189b74fcc4d5"
   }
  }
 },
 "nbformat": 4,
 "nbformat_minor": 2
}

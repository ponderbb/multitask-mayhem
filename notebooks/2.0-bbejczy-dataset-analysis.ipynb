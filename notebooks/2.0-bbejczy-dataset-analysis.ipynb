{
 "cells": [
  {
   "cell_type": "code",
   "execution_count": 4,
   "metadata": {},
   "outputs": [],
   "source": [
    "import pandas as pd\n",
    "import numpy as np\n",
    "from tqdm import tqdm\n",
    "import os\n",
    "from pathlib import Path\n",
    "\n",
    "import src.utils as utils\n",
    "from src.data.dataloader import WarehouseMTL\n",
    "from src.data.manifests import generate_manifest\n",
    "\n",
    "os.chdir(\"/home/bbejczy/repos/multitask-mayhem\")"
   ]
  },
  {
   "cell_type": "code",
   "execution_count": 5,
   "metadata": {},
   "outputs": [
    {
     "name": "stderr",
     "output_type": "stream",
     "text": [
      "100%|██████████| 2/2 [00:00<00:00,  3.35it/s]\n"
     ]
    }
   ],
   "source": [
    "config = utils.load_yaml(\"/home/bbejczy/repos/multitask-mayhem/configs/dummy_training.yaml\")\n",
    "manifest = generate_manifest(collections=config[\"collections\"], data_root=config[\"data_root\"])"
   ]
  }
 ],
 "metadata": {
  "kernelspec": {
   "display_name": "Python 3.9.13 ('multitask-mayhem')",
   "language": "python",
   "name": "python3"
  },
  "language_info": {
   "codemirror_mode": {
    "name": "ipython",
    "version": 3
   },
   "file_extension": ".py",
   "mimetype": "text/x-python",
   "name": "python",
   "nbconvert_exporter": "python",
   "pygments_lexer": "ipython3",
   "version": "3.9.13"
  },
  "orig_nbformat": 4,
  "vscode": {
   "interpreter": {
    "hash": "5c05354d1d8d5a2fe168a69f917da611f3ea083bde8d80309721477b6d7167ae"
   }
  }
 },
 "nbformat": 4,
 "nbformat_minor": 2
}

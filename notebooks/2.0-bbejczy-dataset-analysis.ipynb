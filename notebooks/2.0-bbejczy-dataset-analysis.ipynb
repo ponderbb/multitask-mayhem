{
 "cells": [
  {
   "cell_type": "code",
   "execution_count": 1,
   "metadata": {},
   "outputs": [
    {
     "name": "stderr",
     "output_type": "stream",
     "text": [
      "/zhome/3b/d/154066/miniconda3/envs/multitask-mayhem/lib/python3.9/site-packages/tqdm/auto.py:22: TqdmWarning: IProgress not found. Please update jupyter and ipywidgets. See https://ipywidgets.readthedocs.io/en/stable/user_install.html\n",
      "  from .autonotebook import tqdm as notebook_tqdm\n"
     ]
    }
   ],
   "source": [
    "import pandas as pd\n",
    "import numpy as np\n",
    "from tqdm import tqdm\n",
    "import os\n",
    "from pathlib import Path\n",
    "import shutil\n",
    "\n",
    "import src.utils as utils\n",
    "from src.data.dataloader import mtlDataModule\n",
    "from src.data.manifests import generate_manifest\n",
    "\n",
    "import torchvision.transforms as T\n",
    "from torchvision.utils import draw_bounding_boxes, draw_segmentation_masks\n",
    "from PIL import Image\n",
    "\n",
    "from src.utils import load_yaml\n",
    "import torch\n",
    "\n",
    "HOME_DIR_HPC = \"/zhome/3b/d/154066/repos/multitask-mayhem\"\n",
    "HOME_DIR_X1C7 = \"/home/bbejczy/repos/multitask-mayhem\"\n",
    "\n",
    "os.chdir(HOME_DIR_HPC)"
   ]
  },
  {
   "cell_type": "code",
   "execution_count": 7,
   "metadata": {},
   "outputs": [
    {
     "name": "stderr",
     "output_type": "stream",
     "text": [
      "100%|██████████| 2/2 [00:01<00:00,  1.50it/s]\n"
     ]
    }
   ],
   "source": [
    "config = utils.load_yaml(HOME_DIR_HPC+\"/configs/dummy_training_hpc.yaml\")\n",
    "manifest = generate_manifest(collections=config[\"collections\"], data_root=config[\"data_root\"])"
   ]
  },
  {
   "cell_type": "markdown",
   "metadata": {},
   "source": [
    "## Sanity check bounding boxes"
   ]
  },
  {
   "cell_type": "markdown",
   "metadata": {},
   "source": [
    "Load datamodule with validation files"
   ]
  },
  {
   "cell_type": "code",
   "execution_count": 9,
   "metadata": {},
   "outputs": [
    {
     "name": "stderr",
     "output_type": "stream",
     "text": [
      "100%|██████████| 2/2 [00:01<00:00,  1.53it/s]\n"
     ]
    }
   ],
   "source": [
    "data_module = mtlDataModule(config=HOME_DIR_HPC+\"/configs/dummy_training_hpc.yaml\")\n",
    "data_module.prepare_data()\n",
    "data_module.setup(stage=\"validate\")\n",
    "dataloader = data_module.val_dataloader()"
   ]
  },
  {
   "cell_type": "markdown",
   "metadata": {},
   "source": [
    "Prepare landing folder and label names"
   ]
  },
  {
   "cell_type": "code",
   "execution_count": 10,
   "metadata": {},
   "outputs": [],
   "source": [
    "sanity_check_folder = HOME_DIR_HPC+\"/notebooks/sanity_check\"\n",
    "os.makedirs(sanity_check_folder, exist_ok=True)\n",
    "\n",
    "class_lookup = load_yaml(HOME_DIR_HPC+\"/configs/class_lookup.yaml\")"
   ]
  },
  {
   "cell_type": "markdown",
   "metadata": {},
   "source": [
    "Loop through images and draw labels (use show if not on HPC)"
   ]
  },
  {
   "cell_type": "code",
   "execution_count": 11,
   "metadata": {},
   "outputs": [
    {
     "name": "stderr",
     "output_type": "stream",
     "text": [
      "/zhome/3b/d/154066/miniconda3/envs/multitask-mayhem/lib/python3.9/site-packages/torchvision/utils.py:210: UserWarning: boxes doesn't contain any box. No box was drawn\n",
      "  warnings.warn(\"boxes doesn't contain any box. No box was drawn\")\n"
     ]
    }
   ],
   "source": [
    "for i, batch in enumerate(dataloader):\n",
    "    image, targets = batch\n",
    "    \n",
    "    boxes = targets[0][\"boxes\"]\n",
    "    labels = targets[0][\"labels\"]\n",
    "    masks = targets[0][\"masks\"]\n",
    "    label_names = [class_lookup[\"bbox_rev\"][label.item()] for label in labels]\n",
    "\n",
    "    img = image[0].mul(255).type(torch.uint8)\n",
    "    drawn_image = draw_bounding_boxes(img, boxes, label_names)\n",
    "    drawn_image = draw_segmentation_masks(drawn_image, masks, alpha=0.5, colors=\"green\")\n",
    "    image_pil = T.ToPILImage()(drawn_image)\n",
    "    image_pil.save(sanity_check_folder+\"/{}.png\".format(i))\n",
    "    # image_pil.show()"
   ]
  },
  {
   "cell_type": "markdown",
   "metadata": {},
   "source": [
    "Cleanup folder"
   ]
  },
  {
   "cell_type": "code",
   "execution_count": 13,
   "metadata": {},
   "outputs": [],
   "source": [
    "shutil.rmtree(sanity_check_folder)"
   ]
  }
 ],
 "metadata": {
  "kernelspec": {
   "display_name": "Python 3.9.13 ('multitask-mayhem')",
   "language": "python",
   "name": "python3"
  },
  "language_info": {
   "codemirror_mode": {
    "name": "ipython",
    "version": 3
   },
   "file_extension": ".py",
   "mimetype": "text/x-python",
   "name": "python",
   "nbconvert_exporter": "python",
   "pygments_lexer": "ipython3",
   "version": "3.9.15"
  },
  "orig_nbformat": 4,
  "vscode": {
   "interpreter": {
    "hash": "452d6fdf42435ab38885e9f302edb73591f4d0bccfe3dd654580d102e803bc4e"
   }
  }
 },
 "nbformat": 4,
 "nbformat_minor": 2
}

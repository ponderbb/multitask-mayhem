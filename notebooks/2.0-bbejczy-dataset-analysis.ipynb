{
 "cells": [
  {
   "cell_type": "code",
   "execution_count": 1,
   "metadata": {},
   "outputs": [
    {
     "name": "stderr",
     "output_type": "stream",
     "text": [
      "/zhome/3b/d/154066/miniconda3/envs/multitask-mayhem/lib/python3.9/site-packages/tqdm/auto.py:22: TqdmWarning: IProgress not found. Please update jupyter and ipywidgets. See https://ipywidgets.readthedocs.io/en/stable/user_install.html\n",
      "  from .autonotebook import tqdm as notebook_tqdm\n"
     ]
    }
   ],
   "source": [
    "\n",
    "import sys\n",
    "import os\n",
    "import pandas as pd\n",
    "import numpy as np\n",
    "import matplotlib as plt\n",
    "\n",
    "# move back from notebooks to root\n",
    "os.chdir(\"..\")\n",
    "\n",
    "from src.data.manifests import generate_manifest\n",
    "import src.utils as utils\n",
    "from src.data.dataloader import mtlDataModule\n",
    "\n",
    "COLLECTIONS = [\n",
    "  \"2022-09-23-10-17-46\",\n",
    "  \"2022-09-23-10-39-51\",\n",
    "  \"2022-09-23-11-03-28\",\n",
    "  \"2022-09-23-11-09-28\",\n",
    "  \"2022-10-19-10-44-31\",\n",
    "  \"2022-10-19-11-07-11\",\n",
    "  \"2022-10-19-11-15-59\",\n",
    "  \"2022-10-19-11-20-39\"\n",
    "]\n",
    "\n",
    "os.chdir(path=\"/zhome/3b/d/154066/repos/multitask-mayhem\")\n",
    "\n",
    "CONFIG = \"configs/debug_foo.yaml\"\n",
    "\n",
    "class_lookup = utils.load_yaml(\"configs/class_lookup.yaml\")"
   ]
  },
  {
   "attachments": {},
   "cell_type": "markdown",
   "metadata": {},
   "source": [
    "$\\sum a+b $"
   ]
  },
  {
   "cell_type": "code",
   "execution_count": 10,
   "metadata": {},
   "outputs": [
    {
     "name": "stderr",
     "output_type": "stream",
     "text": [
      "100%|██████████| 8/8 [00:21<00:00,  2.69s/it]\n"
     ]
    }
   ],
   "source": [
    "\n",
    "# utils.logging_setup(CONFIG)\n",
    "\n",
    "data_module = mtlDataModule(CONFIG)\n",
    "data_module.prepare_data()\n",
    "data_module.setup(stage=\"fit\")\n",
    "data_module.setup(stage=\"test\")\n",
    "# dataloader = data_module.val_dataloader()\n",
    "# it = iter(dataloader)\n",
    "# first = next(it)\n",
    "# second = next(it)"
   ]
  },
  {
   "cell_type": "code",
   "execution_count": 11,
   "metadata": {},
   "outputs": [],
   "source": [
    "# manifest = generate_manifest(\n",
    "#     collections=COLLECTIONS,\n",
    "#     data_root=\"data/interim\",\n",
    "#     create_mask=False\n",
    "# )"
   ]
  },
  {
   "cell_type": "code",
   "execution_count": 12,
   "metadata": {},
   "outputs": [
    {
     "data": {
      "text/plain": [
       "2081"
      ]
     },
     "execution_count": 12,
     "metadata": {},
     "output_type": "execute_result"
    }
   ],
   "source": [
    "len(data_module.manifests)"
   ]
  },
  {
   "cell_type": "code",
   "execution_count": 13,
   "metadata": {},
   "outputs": [],
   "source": [
    "def get_class_occurence(manifest:dict) -> list:\n",
    "\n",
    "    class_count = [len(manifest), 0,0,0,0]\n",
    "\n",
    "    for row in manifest:\n",
    "        if \"bbox\" in row.keys():\n",
    "            for bbox in row[\"bbox\"]:\n",
    "                class_count[bbox[\"class\"]] += 1\n",
    "\n",
    "    # for idx, class_type in enumerate(class_count):\n",
    "        # print(\"Class {} has {} occurences\".format(class_lookup[\"bbox_rev\"][idx+1], class_type))\n",
    "\n",
    "    return class_count"
   ]
  },
  {
   "cell_type": "code",
   "execution_count": 14,
   "metadata": {},
   "outputs": [],
   "source": [
    "all = get_class_occurence(data_module.manifests)\n",
    "train = get_class_occurence(data_module.train_split)\n",
    "valid = get_class_occurence(data_module.valid_split)\n",
    "test = get_class_occurence(data_module.test_manifest)"
   ]
  },
  {
   "cell_type": "code",
   "execution_count": 15,
   "metadata": {},
   "outputs": [],
   "source": [
    "from operator import add\n",
    "all = list(map(add, all, test))"
   ]
  },
  {
   "cell_type": "code",
   "execution_count": 16,
   "metadata": {},
   "outputs": [
    {
     "data": {
      "text/html": [
       "<div>\n",
       "<style scoped>\n",
       "    .dataframe tbody tr th:only-of-type {\n",
       "        vertical-align: middle;\n",
       "    }\n",
       "\n",
       "    .dataframe tbody tr th {\n",
       "        vertical-align: top;\n",
       "    }\n",
       "\n",
       "    .dataframe thead th {\n",
       "        text-align: right;\n",
       "    }\n",
       "</style>\n",
       "<table border=\"1\" class=\"dataframe\">\n",
       "  <thead>\n",
       "    <tr style=\"text-align: right;\">\n",
       "      <th></th>\n",
       "      <th>total</th>\n",
       "      <th>person</th>\n",
       "      <th>box</th>\n",
       "      <th>AMR</th>\n",
       "      <th>forklift</th>\n",
       "    </tr>\n",
       "  </thead>\n",
       "  <tbody>\n",
       "    <tr>\n",
       "      <th>training</th>\n",
       "      <td>1665</td>\n",
       "      <td>1121</td>\n",
       "      <td>2899</td>\n",
       "      <td>322</td>\n",
       "      <td>603</td>\n",
       "    </tr>\n",
       "    <tr>\n",
       "      <th>validation</th>\n",
       "      <td>416</td>\n",
       "      <td>280</td>\n",
       "      <td>725</td>\n",
       "      <td>92</td>\n",
       "      <td>129</td>\n",
       "    </tr>\n",
       "    <tr>\n",
       "      <th>test</th>\n",
       "      <td>100</td>\n",
       "      <td>109</td>\n",
       "      <td>206</td>\n",
       "      <td>1</td>\n",
       "      <td>68</td>\n",
       "    </tr>\n",
       "    <tr>\n",
       "      <th>total</th>\n",
       "      <td>2181</td>\n",
       "      <td>1510</td>\n",
       "      <td>3830</td>\n",
       "      <td>415</td>\n",
       "      <td>800</td>\n",
       "    </tr>\n",
       "  </tbody>\n",
       "</table>\n",
       "</div>"
      ],
      "text/plain": [
       "            total  person   box  AMR  forklift\n",
       "training     1665    1121  2899  322       603\n",
       "validation    416     280   725   92       129\n",
       "test          100     109   206    1        68\n",
       "total        2181    1510  3830  415       800"
      ]
     },
     "execution_count": 16,
     "metadata": {},
     "output_type": "execute_result"
    }
   ],
   "source": [
    "repr_df = pd.DataFrame(columns=[\"total\",\"person\", \"box\", \"AMR\", \"forklift\"])\n",
    "\n",
    "repr_df.loc[\"training\"] = train\n",
    "repr_df.loc[\"validation\"] = valid\n",
    "repr_df.loc[\"test\"] = test\n",
    "repr_df.loc[\"total\"] = all\n",
    "\n",
    "\n",
    "styler = repr_df.style\n",
    "styler.applymap_index(lambda v: \"font-weight: bold;\", axis=\"index\")\n",
    "styler.applymap_index(lambda v: \"font-weight: bold;\", axis=\"columns\")\n",
    "styler.to_latex(\n",
    "    buf=\"reports/figures/class_representation.tex\",\n",
    "    caption=\"Class representation in the data splits\",\n",
    "    label=\"tab:class_representation\",\n",
    "    position=\"htbp\",\n",
    "    position_float=\"centering\",\n",
    "    hrules=True,\n",
    "    column_format=\"lrrrrr\",\n",
    "    convert_css=True,\n",
    "    )\n",
    "\n",
    "repr_df"
   ]
  },
  {
   "cell_type": "code",
   "execution_count": 17,
   "metadata": {},
   "outputs": [],
   "source": [
    "NOVO_COLORS = [\n",
    "    \"#3B97DE\", #lightblue\n",
    "    \"#005AD2\", #blue\n",
    "    \"#2A918B\", #green\n",
    "    \"#EEA7BF\", #pink\n",
    "    \"#939AA7\", #grey\n",
    "    \"#CCC5BD\"  #brown\n",
    "    ]\n",
    "\n",
    "plt.rc('font', size=10)\n",
    "plt.rc('figure', titlesize=12)"
   ]
  },
  {
   "cell_type": "code",
   "execution_count": 18,
   "metadata": {},
   "outputs": [
    {
     "name": "stderr",
     "output_type": "stream",
     "text": [
      "/zhome/3b/d/154066/miniconda3/envs/multitask-mayhem/lib/python3.9/site-packages/pandas/plotting/_matplotlib/core.py:278: UserWarning: 'color' and 'colormap' cannot be used simultaneously. Using 'color'\n",
      "  warnings.warn(\n",
      "/zhome/3b/d/154066/miniconda3/envs/multitask-mayhem/lib/python3.9/site-packages/pandas/plotting/_matplotlib/style.py:123: UserWarning: 'color' and 'colormap' cannot be used simultaneously. Using 'color'\n",
      "  warnings.warn(\n"
     ]
    },
    {
     "data": {
      "image/png": "[encoded data removed]",
      "text/plain": [
       "<Figure size 700x500 with 1 Axes>"
      ]
     },
     "metadata": {},
     "output_type": "display_data"
    }
   ],
   "source": [
    "fig = repr_df.plot(y =[\"person\", \"box\", \"AMR\", \"forklift\"], kind=\"bar\", stacked=True, colormap=\"Paired\", color=NOVO_COLORS[1:], ylabel=\"Number of bounding box\", figsize=(7,5), rot=0)\n",
    "fig.figure.savefig(\"reports/figures/class_occurence.png\", dpi=300, bbox_inches=\"tight\")"
   ]
  },
  {
   "cell_type": "code",
   "execution_count": 19,
   "metadata": {},
   "outputs": [],
   "source": [
    "SMALL_SIZE = 8\n",
    "MEDIUM_SIZE = 14\n",
    "BIGGER_SIZE = 20\n",
    "\n",
    "plt.rc('font', size=BIGGER_SIZE)          # controls default text sizes\n",
    "plt.rc('axes', titlesize=BIGGER_SIZE)     # fontsize of the axes title\n",
    "plt.rc('axes', labelsize=MEDIUM_SIZE)    # fontsize of the x and y labels\n",
    "plt.rc('xtick', labelsize=BIGGER_SIZE)    # fontsize of the tick labels\n",
    "plt.rc('ytick', labelsize=BIGGER_SIZE)    # fontsize of the tick labels\n",
    "plt.rc('legend', fontsize=MEDIUM_SIZE)    # legend fontsize\n",
    "plt.rc('figure', titlesize=BIGGER_SIZE)  # fontsize of the figure title"
   ]
  },
  {
   "cell_type": "code",
   "execution_count": 20,
   "metadata": {},
   "outputs": [
    {
     "data": {
      "image/png": "[encoded data removed]",
      "text/plain": [
       "<Figure size 700x700 with 1 Axes>"
      ]
     },
     "metadata": {},
     "output_type": "display_data"
    }
   ],
   "source": [
    "img_df = repr_df.loc[[\"training\", \"validation\", \"test\"]].copy()\n",
    "fig2 = img_df.plot.pie(y = \"total\", autopct = '%1.1f%%', colors=NOVO_COLORS[1:], labels = None, ylabel=\"\", explode=[0.05, 0.1, 0.1], figsize = (7,7))\n",
    "fig2.figure.savefig(\"reports/figures/data_splits.png\", dpi=300, bbox_inches=\"tight\")"
   ]
  },
  {
   "attachments": {},
   "cell_type": "markdown",
   "metadata": {},
   "source": [
    "# SSIM and before "
   ]
  },
  {
   "cell_type": "code",
   "execution_count": 21,
   "metadata": {},
   "outputs": [
    {
     "ename": "FileNotFoundError",
     "evalue": "[Errno 2] No such file or directory: 'docs/raw.csv'",
     "output_type": "error",
     "traceback": [
      "\u001b[0;31m---------------------------------------------------------------------------\u001b[0m",
      "\u001b[0;31mFileNotFoundError\u001b[0m                         Traceback (most recent call last)",
      "Cell \u001b[0;32mIn [21], line 30\u001b[0m\n\u001b[1;32m     17\u001b[0m bags_filt \u001b[39m=\u001b[39m fi\u001b[39m.\u001b[39m_listbags_fullpath(\u001b[39m\"\u001b[39m\u001b[39m/work3/s202821/data/interim\u001b[39m\u001b[39m\"\u001b[39m)\n\u001b[1;32m     19\u001b[0m \u001b[39m# raw_sizes = {}\u001b[39;00m\n\u001b[1;32m     20\u001b[0m \n\u001b[1;32m     21\u001b[0m \u001b[39m# for bag in bags_raw:\u001b[39;00m\n\u001b[0;32m   (...)\u001b[0m\n\u001b[1;32m     27\u001b[0m \n\u001b[1;32m     28\u001b[0m \u001b[39m# raw = pd.DataFrame.from_dict(raw_sizes, orient=\"index\", columns=[\"collected\"], dtype=\"int\")\u001b[39;00m\n\u001b[0;32m---> 30\u001b[0m raw \u001b[39m=\u001b[39m pd\u001b[39m.\u001b[39;49mread_csv(\u001b[39m\"\u001b[39;49m\u001b[39mdocs/raw.csv\u001b[39;49m\u001b[39m\"\u001b[39;49m, sep\u001b[39m=\u001b[39;49m\u001b[39m\"\u001b[39;49m\u001b[39m,\u001b[39;49m\u001b[39m\"\u001b[39;49m, index_col\u001b[39m=\u001b[39;49m\u001b[39m0\u001b[39;49m, header\u001b[39m=\u001b[39;49m\u001b[39m0\u001b[39;49m)\n\u001b[1;32m     32\u001b[0m filtered_sizes \u001b[39m=\u001b[39m {}\n\u001b[1;32m     33\u001b[0m annotated_sizes \u001b[39m=\u001b[39m {}\n",
      "File \u001b[0;32m~/miniconda3/envs/multitask-mayhem/lib/python3.9/site-packages/pandas/util/_decorators.py:311\u001b[0m, in \u001b[0;36mdeprecate_nonkeyword_arguments.<locals>.decorate.<locals>.wrapper\u001b[0;34m(*args, **kwargs)\u001b[0m\n\u001b[1;32m    305\u001b[0m \u001b[39mif\u001b[39;00m \u001b[39mlen\u001b[39m(args) \u001b[39m>\u001b[39m num_allow_args:\n\u001b[1;32m    306\u001b[0m     warnings\u001b[39m.\u001b[39mwarn(\n\u001b[1;32m    307\u001b[0m         msg\u001b[39m.\u001b[39mformat(arguments\u001b[39m=\u001b[39marguments),\n\u001b[1;32m    308\u001b[0m         \u001b[39mFutureWarning\u001b[39;00m,\n\u001b[1;32m    309\u001b[0m         stacklevel\u001b[39m=\u001b[39mstacklevel,\n\u001b[1;32m    310\u001b[0m     )\n\u001b[0;32m--> 311\u001b[0m \u001b[39mreturn\u001b[39;00m func(\u001b[39m*\u001b[39;49margs, \u001b[39m*\u001b[39;49m\u001b[39m*\u001b[39;49mkwargs)\n",
      "File \u001b[0;32m~/miniconda3/envs/multitask-mayhem/lib/python3.9/site-packages/pandas/io/parsers/readers.py:678\u001b[0m, in \u001b[0;36mread_csv\u001b[0;34m(filepath_or_buffer, sep, delimiter, header, names, index_col, usecols, squeeze, prefix, mangle_dupe_cols, dtype, engine, converters, true_values, false_values, skipinitialspace, skiprows, skipfooter, nrows, na_values, keep_default_na, na_filter, verbose, skip_blank_lines, parse_dates, infer_datetime_format, keep_date_col, date_parser, dayfirst, cache_dates, iterator, chunksize, compression, thousands, decimal, lineterminator, quotechar, quoting, doublequote, escapechar, comment, encoding, encoding_errors, dialect, error_bad_lines, warn_bad_lines, on_bad_lines, delim_whitespace, low_memory, memory_map, float_precision, storage_options)\u001b[0m\n\u001b[1;32m    663\u001b[0m kwds_defaults \u001b[39m=\u001b[39m _refine_defaults_read(\n\u001b[1;32m    664\u001b[0m     dialect,\n\u001b[1;32m    665\u001b[0m     delimiter,\n\u001b[0;32m   (...)\u001b[0m\n\u001b[1;32m    674\u001b[0m     defaults\u001b[39m=\u001b[39m{\u001b[39m\"\u001b[39m\u001b[39mdelimiter\u001b[39m\u001b[39m\"\u001b[39m: \u001b[39m\"\u001b[39m\u001b[39m,\u001b[39m\u001b[39m\"\u001b[39m},\n\u001b[1;32m    675\u001b[0m )\n\u001b[1;32m    676\u001b[0m kwds\u001b[39m.\u001b[39mupdate(kwds_defaults)\n\u001b[0;32m--> 678\u001b[0m \u001b[39mreturn\u001b[39;00m _read(filepath_or_buffer, kwds)\n",
      "File \u001b[0;32m~/miniconda3/envs/multitask-mayhem/lib/python3.9/site-packages/pandas/io/parsers/readers.py:575\u001b[0m, in \u001b[0;36m_read\u001b[0;34m(filepath_or_buffer, kwds)\u001b[0m\n\u001b[1;32m    572\u001b[0m _validate_names(kwds\u001b[39m.\u001b[39mget(\u001b[39m\"\u001b[39m\u001b[39mnames\u001b[39m\u001b[39m\"\u001b[39m, \u001b[39mNone\u001b[39;00m))\n\u001b[1;32m    574\u001b[0m \u001b[39m# Create the parser.\u001b[39;00m\n\u001b[0;32m--> 575\u001b[0m parser \u001b[39m=\u001b[39m TextFileReader(filepath_or_buffer, \u001b[39m*\u001b[39;49m\u001b[39m*\u001b[39;49mkwds)\n\u001b[1;32m    577\u001b[0m \u001b[39mif\u001b[39;00m chunksize \u001b[39mor\u001b[39;00m iterator:\n\u001b[1;32m    578\u001b[0m     \u001b[39mreturn\u001b[39;00m parser\n",
      "File \u001b[0;32m~/miniconda3/envs/multitask-mayhem/lib/python3.9/site-packages/pandas/io/parsers/readers.py:932\u001b[0m, in \u001b[0;36mTextFileReader.__init__\u001b[0;34m(self, f, engine, **kwds)\u001b[0m\n\u001b[1;32m    929\u001b[0m     \u001b[39mself\u001b[39m\u001b[39m.\u001b[39moptions[\u001b[39m\"\u001b[39m\u001b[39mhas_index_names\u001b[39m\u001b[39m\"\u001b[39m] \u001b[39m=\u001b[39m kwds[\u001b[39m\"\u001b[39m\u001b[39mhas_index_names\u001b[39m\u001b[39m\"\u001b[39m]\n\u001b[1;32m    931\u001b[0m \u001b[39mself\u001b[39m\u001b[39m.\u001b[39mhandles: IOHandles \u001b[39m|\u001b[39m \u001b[39mNone\u001b[39;00m \u001b[39m=\u001b[39m \u001b[39mNone\u001b[39;00m\n\u001b[0;32m--> 932\u001b[0m \u001b[39mself\u001b[39m\u001b[39m.\u001b[39m_engine \u001b[39m=\u001b[39m \u001b[39mself\u001b[39;49m\u001b[39m.\u001b[39;49m_make_engine(f, \u001b[39mself\u001b[39;49m\u001b[39m.\u001b[39;49mengine)\n",
      "File \u001b[0;32m~/miniconda3/envs/multitask-mayhem/lib/python3.9/site-packages/pandas/io/parsers/readers.py:1216\u001b[0m, in \u001b[0;36mTextFileReader._make_engine\u001b[0;34m(self, f, engine)\u001b[0m\n\u001b[1;32m   1212\u001b[0m     mode \u001b[39m=\u001b[39m \u001b[39m\"\u001b[39m\u001b[39mrb\u001b[39m\u001b[39m\"\u001b[39m\n\u001b[1;32m   1213\u001b[0m \u001b[39m# error: No overload variant of \"get_handle\" matches argument types\u001b[39;00m\n\u001b[1;32m   1214\u001b[0m \u001b[39m# \"Union[str, PathLike[str], ReadCsvBuffer[bytes], ReadCsvBuffer[str]]\"\u001b[39;00m\n\u001b[1;32m   1215\u001b[0m \u001b[39m# , \"str\", \"bool\", \"Any\", \"Any\", \"Any\", \"Any\", \"Any\"\u001b[39;00m\n\u001b[0;32m-> 1216\u001b[0m \u001b[39mself\u001b[39m\u001b[39m.\u001b[39mhandles \u001b[39m=\u001b[39m get_handle(  \u001b[39m# type: ignore[call-overload]\u001b[39;49;00m\n\u001b[1;32m   1217\u001b[0m     f,\n\u001b[1;32m   1218\u001b[0m     mode,\n\u001b[1;32m   1219\u001b[0m     encoding\u001b[39m=\u001b[39;49m\u001b[39mself\u001b[39;49m\u001b[39m.\u001b[39;49moptions\u001b[39m.\u001b[39;49mget(\u001b[39m\"\u001b[39;49m\u001b[39mencoding\u001b[39;49m\u001b[39m\"\u001b[39;49m, \u001b[39mNone\u001b[39;49;00m),\n\u001b[1;32m   1220\u001b[0m     compression\u001b[39m=\u001b[39;49m\u001b[39mself\u001b[39;49m\u001b[39m.\u001b[39;49moptions\u001b[39m.\u001b[39;49mget(\u001b[39m\"\u001b[39;49m\u001b[39mcompression\u001b[39;49m\u001b[39m\"\u001b[39;49m, \u001b[39mNone\u001b[39;49;00m),\n\u001b[1;32m   1221\u001b[0m     memory_map\u001b[39m=\u001b[39;49m\u001b[39mself\u001b[39;49m\u001b[39m.\u001b[39;49moptions\u001b[39m.\u001b[39;49mget(\u001b[39m\"\u001b[39;49m\u001b[39mmemory_map\u001b[39;49m\u001b[39m\"\u001b[39;49m, \u001b[39mFalse\u001b[39;49;00m),\n\u001b[1;32m   1222\u001b[0m     is_text\u001b[39m=\u001b[39;49mis_text,\n\u001b[1;32m   1223\u001b[0m     errors\u001b[39m=\u001b[39;49m\u001b[39mself\u001b[39;49m\u001b[39m.\u001b[39;49moptions\u001b[39m.\u001b[39;49mget(\u001b[39m\"\u001b[39;49m\u001b[39mencoding_errors\u001b[39;49m\u001b[39m\"\u001b[39;49m, \u001b[39m\"\u001b[39;49m\u001b[39mstrict\u001b[39;49m\u001b[39m\"\u001b[39;49m),\n\u001b[1;32m   1224\u001b[0m     storage_options\u001b[39m=\u001b[39;49m\u001b[39mself\u001b[39;49m\u001b[39m.\u001b[39;49moptions\u001b[39m.\u001b[39;49mget(\u001b[39m\"\u001b[39;49m\u001b[39mstorage_options\u001b[39;49m\u001b[39m\"\u001b[39;49m, \u001b[39mNone\u001b[39;49;00m),\n\u001b[1;32m   1225\u001b[0m )\n\u001b[1;32m   1226\u001b[0m \u001b[39massert\u001b[39;00m \u001b[39mself\u001b[39m\u001b[39m.\u001b[39mhandles \u001b[39mis\u001b[39;00m \u001b[39mnot\u001b[39;00m \u001b[39mNone\u001b[39;00m\n\u001b[1;32m   1227\u001b[0m f \u001b[39m=\u001b[39m \u001b[39mself\u001b[39m\u001b[39m.\u001b[39mhandles\u001b[39m.\u001b[39mhandle\n",
      "File \u001b[0;32m~/miniconda3/envs/multitask-mayhem/lib/python3.9/site-packages/pandas/io/common.py:786\u001b[0m, in \u001b[0;36mget_handle\u001b[0;34m(path_or_buf, mode, encoding, compression, memory_map, is_text, errors, storage_options)\u001b[0m\n\u001b[1;32m    781\u001b[0m \u001b[39melif\u001b[39;00m \u001b[39misinstance\u001b[39m(handle, \u001b[39mstr\u001b[39m):\n\u001b[1;32m    782\u001b[0m     \u001b[39m# Check whether the filename is to be opened in binary mode.\u001b[39;00m\n\u001b[1;32m    783\u001b[0m     \u001b[39m# Binary mode does not support 'encoding' and 'newline'.\u001b[39;00m\n\u001b[1;32m    784\u001b[0m     \u001b[39mif\u001b[39;00m ioargs\u001b[39m.\u001b[39mencoding \u001b[39mand\u001b[39;00m \u001b[39m\"\u001b[39m\u001b[39mb\u001b[39m\u001b[39m\"\u001b[39m \u001b[39mnot\u001b[39;00m \u001b[39min\u001b[39;00m ioargs\u001b[39m.\u001b[39mmode:\n\u001b[1;32m    785\u001b[0m         \u001b[39m# Encoding\u001b[39;00m\n\u001b[0;32m--> 786\u001b[0m         handle \u001b[39m=\u001b[39m \u001b[39mopen\u001b[39;49m(\n\u001b[1;32m    787\u001b[0m             handle,\n\u001b[1;32m    788\u001b[0m             ioargs\u001b[39m.\u001b[39;49mmode,\n\u001b[1;32m    789\u001b[0m             encoding\u001b[39m=\u001b[39;49mioargs\u001b[39m.\u001b[39;49mencoding,\n\u001b[1;32m    790\u001b[0m             errors\u001b[39m=\u001b[39;49merrors,\n\u001b[1;32m    791\u001b[0m             newline\u001b[39m=\u001b[39;49m\u001b[39m\"\u001b[39;49m\u001b[39m\"\u001b[39;49m,\n\u001b[1;32m    792\u001b[0m         )\n\u001b[1;32m    793\u001b[0m     \u001b[39melse\u001b[39;00m:\n\u001b[1;32m    794\u001b[0m         \u001b[39m# Binary mode\u001b[39;00m\n\u001b[1;32m    795\u001b[0m         handle \u001b[39m=\u001b[39m \u001b[39mopen\u001b[39m(handle, ioargs\u001b[39m.\u001b[39mmode)\n",
      "\u001b[0;31mFileNotFoundError\u001b[0m: [Errno 2] No such file or directory: 'docs/raw.csv'"
     ]
    }
   ],
   "source": [
    "from src.data.filter_images import filterImages\n",
    "from pathlib import Path\n",
    "import pandas as pd\n",
    "from src.data.manifests import cvat_to_dict\n",
    "\n",
    "\n",
    "fi = filterImages(\n",
    "    similarity_limit=0.7,\n",
    "    input_root=\"/work3/s202821/data/interim/\",\n",
    "    output_root=\"/work3/s202821/data/dummy/\",\n",
    "    force=False,\n",
    "    rgb_only=True,\n",
    "    debug=True,\n",
    ")\n",
    "\n",
    "# bags_raw = fi._listbags_fullpath(\"/work3/s202821/data/raw\")\n",
    "bags_filt = fi._listbags_fullpath(\"/work3/s202821/data/interim\")\n",
    "\n",
    "# raw_sizes = {}\n",
    "\n",
    "# for bag in bags_raw:\n",
    "#     try:\n",
    "#         bag_size = len(fi._list_images(bag))\n",
    "#         raw_sizes[Path(bag).name] = bag_size\n",
    "#     except:\n",
    "#         pass\n",
    "\n",
    "# raw = pd.DataFrame.from_dict(raw_sizes, orient=\"index\", columns=[\"collected\"], dtype=\"int\")\n",
    "\n",
    "raw = pd.read_csv(\"docs/raw.csv\", sep=\",\", index_col=0, header=0)\n",
    "\n",
    "filtered_sizes = {}\n",
    "annotated_sizes = {}\n",
    "\n",
    "for bag in bags_filt:\n",
    "\n",
    "\n",
    "\n",
    "    try:\n",
    "        with open(f\"data/annotations/{Path(bag).name}.xml\", \"r\", encoding=\"utf-8\") as file:\n",
    "            label_xml = file.read()\n",
    "\n",
    "        annotation_dict = cvat_to_dict(\n",
    "            xml_file=label_xml,\n",
    "            collection=Path(bag).name,\n",
    "            data_root=\"/work3/s202821/data/interim\",\n",
    "            create_mask=False\n",
    "        )\n",
    "\n",
    "        bag_size = len(fi._list_images(bag+\"/synchronized_l515_image/\"))\n",
    "        filtered_sizes[Path(bag).name] = bag_size\n",
    "        annotated_sizes[Path(bag).name] = len(annotation_dict)\n",
    "    except:\n",
    "        pass\n",
    "\n",
    "filt = pd.DataFrame.from_dict(filtered_sizes, orient=\"index\", columns=[\"filtered\"], dtype=\"int\")\n",
    "ann = pd.DataFrame.from_dict(annotated_sizes, orient=\"index\", columns=[\"annotated\"], dtype=\"int\")\n",
    "\n",
    "df = pd.concat([raw, filt, ann], axis=1)\n",
    "df.filtered = df.filtered.fillna(0).astype(\"int\")\n",
    "df.annotated = df.annotated.fillna(0).astype(\"int\")\n",
    "df[\"\\% kept\"] = round(df[\"filtered\"] / df[\"collected\"] * 100, 0).astype(\"int\")\n",
    "df[\"SSIM\"] = 0.7\n",
    "df\n"
   ]
  },
  {
   "cell_type": "code",
   "execution_count": null,
   "metadata": {},
   "outputs": [
    {
     "data": {
      "text/plain": [
       "2081"
      ]
     },
     "execution_count": 27,
     "metadata": {},
     "output_type": "execute_result"
    }
   ],
   "source": [
    "df[\"annotated\"].sum()"
   ]
  },
  {
   "cell_type": "code",
   "execution_count": null,
   "metadata": {},
   "outputs": [],
   "source": [
    "styler = df.style\n",
    "styler.applymap_index(lambda v: \"font-weight: bold;\", axis=\"index\")\n",
    "styler.applymap_index(lambda v: \"font-weight: bold;\", axis=\"columns\")\n",
    "styler.to_latex(\n",
    "    buf=\"reports/figures/filtered_images.tex\",\n",
    "    caption=\"Number of images collected and filtered per collection run, where each name is the date-time combination indicating the start of the collection.\",\n",
    "    label=\"tab:filtered_images\",\n",
    "    position=\"htbp\",\n",
    "    position_float=\"centering\",\n",
    "    hrules=True,\n",
    "    column_format=\"lrrrrr\",\n",
    "    convert_css=True,\n",
    "    )"
   ]
  }
 ],
 "metadata": {
  "kernelspec": {
   "display_name": "multitask-mayhem",
   "language": "python",
   "name": "python3"
  },
  "language_info": {
   "codemirror_mode": {
    "name": "ipython",
    "version": 3
   },
   "file_extension": ".py",
   "mimetype": "text/x-python",
   "name": "python",
   "nbconvert_exporter": "python",
   "pygments_lexer": "ipython3",
   "version": "3.9.15"
  },
  "orig_nbformat": 4,
  "vscode": {
   "interpreter": {
    "hash": "452d6fdf42435ab38885e9f302edb73591f4d0bccfe3dd654580d102e803bc4e"
   }
  }
 },
 "nbformat": 4,
 "nbformat_minor": 2
}

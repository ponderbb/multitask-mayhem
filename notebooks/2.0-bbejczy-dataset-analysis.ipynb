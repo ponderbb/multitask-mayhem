{
 "cells": [
  {
   "cell_type": "code",
   "execution_count": 1,
   "metadata": {},
   "outputs": [
    {
     "name": "stderr",
     "output_type": "stream",
     "text": [
      "/home/bnbj/miniconda3/envs/multitask-mayhem/lib/python3.9/site-packages/tqdm/auto.py:22: TqdmWarning: IProgress not found. Please update jupyter and ipywidgets. See https://ipywidgets.readthedocs.io/en/stable/user_install.html\n",
      "  from .autonotebook import tqdm as notebook_tqdm\n"
     ]
    }
   ],
   "source": [
    "\n",
    "import sys\n",
    "import os\n",
    "import pandas as pd\n",
    "import numpy as np\n",
    "\n",
    "# move back from notebooks to root\n",
    "os.chdir(\"..\")\n",
    "\n",
    "from src.data.manifests import generate_manifest\n",
    "import src.utils as utils\n",
    "from src.data.dataloader import mtlDataModule\n",
    "\n",
    "COLLECTIONS = [\n",
    "  \"2022-09-23-10-17-46\",\n",
    "  \"2022-09-23-10-39-51\",\n",
    "  \"2022-09-23-11-03-28\",\n",
    "  \"2022-09-23-11-09-28\",\n",
    "  \"2022-10-19-10-44-31\",\n",
    "  \"2022-10-19-11-07-11\",\n",
    "  \"2022-10-19-11-15-59\",\n",
    "  \"2022-10-19-11-20-39\"\n",
    "]\n",
    "\n",
    "os.chdir(path=\"/home/bnbj/repos/multitask-mayhem/\")\n",
    "\n",
    "CONFIG = \"/home/bnbj/repos/multitask-mayhem/configs/debug_foo.yaml\"\n",
    "\n",
    "class_lookup = utils.load_yaml(\"/home/bnbj/repos/multitask-mayhem/configs/class_lookup.yaml\")"
   ]
  },
  {
   "cell_type": "code",
   "execution_count": 2,
   "metadata": {},
   "outputs": [
    {
     "name": "stderr",
     "output_type": "stream",
     "text": [
      "100%|██████████| 8/8 [00:07<00:00,  1.01it/s]\n"
     ]
    }
   ],
   "source": [
    "\n",
    "# utils.logging_setup(CONFIG)\n",
    "\n",
    "data_module = mtlDataModule(CONFIG)\n",
    "data_module.prepare_data()\n",
    "# data_module.setup(stage=\"fit\")\n",
    "# dataloader = data_module.val_dataloader()\n",
    "# it = iter(dataloader)\n",
    "# first = next(it)\n",
    "# second = next(it)"
   ]
  },
  {
   "cell_type": "code",
   "execution_count": 3,
   "metadata": {},
   "outputs": [],
   "source": [
    "# manifest = generate_manifest(\n",
    "#     collections=COLLECTIONS,\n",
    "#     data_root=\"data/interim\",\n",
    "#     create_mask=False\n",
    "# )"
   ]
  },
  {
   "cell_type": "code",
   "execution_count": 4,
   "metadata": {},
   "outputs": [
    {
     "data": {
      "text/plain": [
       "2081"
      ]
     },
     "execution_count": 4,
     "metadata": {},
     "output_type": "execute_result"
    }
   ],
   "source": [
    "len(data_module.manifests)"
   ]
  },
  {
   "cell_type": "code",
   "execution_count": 10,
   "metadata": {},
   "outputs": [],
   "source": [
    "def get_class_occurence(manifest:dict) -> list:\n",
    "\n",
    "    class_count = [len(manifest), 0,0,0,0]\n",
    "\n",
    "    for row in manifest:\n",
    "        if \"bbox\" in row.keys():\n",
    "            for bbox in row[\"bbox\"]:\n",
    "                class_count[bbox[\"class\"]] += 1\n",
    "\n",
    "    # for idx, class_type in enumerate(class_count):\n",
    "        # print(\"Class {} has {} occurences\".format(class_lookup[\"bbox_rev\"][idx+1], class_type))\n",
    "\n",
    "    return class_count"
   ]
  },
  {
   "cell_type": "code",
   "execution_count": 11,
   "metadata": {},
   "outputs": [],
   "source": [
    "all = get_class_occurence(data_module.manifests)\n",
    "train = get_class_occurence(data_module.train_split)\n",
    "valid = get_class_occurence(data_module.valid_split)\n",
    "test = get_class_occurence(data_module.test_manifest)"
   ]
  },
  {
   "cell_type": "code",
   "execution_count": 12,
   "metadata": {},
   "outputs": [
    {
     "data": {
      "text/html": [
       "<div>\n",
       "<style scoped>\n",
       "    .dataframe tbody tr th:only-of-type {\n",
       "        vertical-align: middle;\n",
       "    }\n",
       "\n",
       "    .dataframe tbody tr th {\n",
       "        vertical-align: top;\n",
       "    }\n",
       "\n",
       "    .dataframe thead th {\n",
       "        text-align: right;\n",
       "    }\n",
       "</style>\n",
       "<table border=\"1\" class=\"dataframe\">\n",
       "  <thead>\n",
       "    <tr style=\"text-align: right;\">\n",
       "      <th></th>\n",
       "      <th>total imgs</th>\n",
       "      <th>person</th>\n",
       "      <th>box</th>\n",
       "      <th>agv</th>\n",
       "      <th>forklift</th>\n",
       "    </tr>\n",
       "  </thead>\n",
       "  <tbody>\n",
       "    <tr>\n",
       "      <th>all</th>\n",
       "      <td>2081</td>\n",
       "      <td>1401</td>\n",
       "      <td>3624</td>\n",
       "      <td>414</td>\n",
       "      <td>732</td>\n",
       "    </tr>\n",
       "    <tr>\n",
       "      <th>train</th>\n",
       "      <td>1665</td>\n",
       "      <td>1121</td>\n",
       "      <td>2899</td>\n",
       "      <td>322</td>\n",
       "      <td>603</td>\n",
       "    </tr>\n",
       "    <tr>\n",
       "      <th>valid</th>\n",
       "      <td>416</td>\n",
       "      <td>280</td>\n",
       "      <td>725</td>\n",
       "      <td>92</td>\n",
       "      <td>129</td>\n",
       "    </tr>\n",
       "    <tr>\n",
       "      <th>test</th>\n",
       "      <td>260</td>\n",
       "      <td>215</td>\n",
       "      <td>676</td>\n",
       "      <td>11</td>\n",
       "      <td>173</td>\n",
       "    </tr>\n",
       "  </tbody>\n",
       "</table>\n",
       "</div>"
      ],
      "text/plain": [
       "       total imgs  person   box  agv  forklift\n",
       "all          2081    1401  3624  414       732\n",
       "train        1665    1121  2899  322       603\n",
       "valid         416     280   725   92       129\n",
       "test          260     215   676   11       173"
      ]
     },
     "execution_count": 12,
     "metadata": {},
     "output_type": "execute_result"
    }
   ],
   "source": [
    "repr_df = pd.DataFrame(columns=[\"total imgs\",\"person\", \"box\", \"agv\", \"forklift\"])\n",
    "\n",
    "repr_df.loc[\"all\"] = all\n",
    "repr_df.loc[\"train\"] = train\n",
    "repr_df.loc[\"valid\"] = valid\n",
    "repr_df.loc[\"test\"] = test\n",
    "\n",
    "\n",
    "repr_df"
   ]
  },
  {
   "cell_type": "code",
   "execution_count": 16,
   "metadata": {},
   "outputs": [
    {
     "data": {
      "text/plain": [
       "<AxesSubplot: title={'center': 'Class occurences in data splits'}>"
      ]
     },
     "execution_count": 16,
     "metadata": {},
     "output_type": "execute_result"
    },
    {
     "data": {
      "image/png": "[encoded data removed]",
      "text/plain": [
       "<Figure size 640x480 with 1 Axes>"
      ]
     },
     "metadata": {},
     "output_type": "display_data"
    }
   ],
   "source": [
    "repr_df.plot.bar(y =[\"person\", \"box\", \"agv\", \"forklift\"], title=\"Class occurences in data splits\", stacked=True)"
   ]
  },
  {
   "cell_type": "code",
   "execution_count": 18,
   "metadata": {},
   "outputs": [
    {
     "data": {
      "text/plain": [
       "<AxesSubplot: title={'center': 'Data splits'}, ylabel='total imgs'>"
      ]
     },
     "execution_count": 18,
     "metadata": {},
     "output_type": "execute_result"
    },
    {
     "data": {
      "image/png": "[encoded data removed]",
      "text/plain": [
       "<Figure size 640x480 with 1 Axes>"
      ]
     },
     "metadata": {},
     "output_type": "display_data"
    }
   ],
   "source": [
    "img_df = repr_df.loc[[\"train\", \"valid\", \"test\"]].copy()\n",
    "img_df.plot.pie(y = \"total imgs\", title=\"Data splits\", autopct = '%1.1f%%')"
   ]
  }
 ],
 "metadata": {
  "kernelspec": {
   "display_name": "multitask-mayhem",
   "language": "python",
   "name": "python3"
  },
  "language_info": {
   "codemirror_mode": {
    "name": "ipython",
    "version": 3
   },
   "file_extension": ".py",
   "mimetype": "text/x-python",
   "name": "python",
   "nbconvert_exporter": "python",
   "pygments_lexer": "ipython3",
   "version": "3.9.15"
  },
  "orig_nbformat": 4,
  "vscode": {
   "interpreter": {
    "hash": "2caba22eca3b8e03bae005f76f65f0bc30813bc5024a8738418f189b74fcc4d5"
   }
  }
 },
 "nbformat": 4,
 "nbformat_minor": 2
}

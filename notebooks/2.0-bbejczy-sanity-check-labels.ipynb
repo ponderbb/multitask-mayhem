{
 "cells": [
  {
   "cell_type": "markdown",
   "metadata": {},
   "source": [
    "# Visualization of results"
   ]
  },
  {
   "cell_type": "markdown",
   "metadata": {},
   "source": [
    "Load modules and constants"
   ]
  },
  {
   "cell_type": "code",
   "execution_count": 5,
   "metadata": {},
   "outputs": [],
   "source": [
    "import shutil\n",
    "import os\n",
    "import src.utils as utils\n",
    "from src.data.dataloader import mtlDataModule\n",
    "\n",
    "from src.data.manifests import generate_manifest\n",
    "\n",
    "import torchvision.transforms as T\n",
    "from torchvision.utils import draw_segmentation_masks\n",
    "from src.visualization.draw_things import draw_bounding_boxes\n",
    "from PIL import Image\n",
    "from pathlib import Path\n",
    "\n",
    "from src.utils import load_yaml\n",
    "import torch\n",
    "\n",
    "ROOT_DIR = \"/zhome/3b/d/154066/repos/multitask-mayhem\"\n",
    "\n",
    "os.chdir(ROOT_DIR)\n",
    "\n",
    "CLASS_LOOKUP = load_yaml(ROOT_DIR+\"/configs/class_lookup.yaml\")"
   ]
  },
  {
   "cell_type": "markdown",
   "metadata": {},
   "source": [
    "Get config to initialize `pl.DataModule` and create dataloaders"
   ]
  },
  {
   "cell_type": "code",
   "execution_count": 6,
   "metadata": {},
   "outputs": [
    {
     "name": "stderr",
     "output_type": "stream",
     "text": [
      "100%|██████████| 5/5 [00:10<00:00,  2.14s/it]\n"
     ]
    }
   ],
   "source": [
    "config_file = ROOT_DIR + \"/configs/debug_foo.yaml\"\n",
    "\n",
    "\n",
    "data_module = mtlDataModule(config_path=config_file)\n",
    "\n",
    "data_module.config[\"batch_size\"] = 1\n",
    "data_module.config[\"num_workers\"] = 0\n",
    "data_module.config[\"shuffle\"] = False\n",
    "# print(torch.cuda.is_available())\n",
    "\n",
    "data_module.prepare_data()\n",
    "# data_module.setup(stage=\"fit\")\n",
    "# train_dataloader = data_module.train_dataloader()\n",
    "# data_module.setup(stage=\"validate\")\n",
    "# valid_dataloader = data_module.val_dataloader()\n",
    "data_module.setup(stage=\"test\")\n",
    "test_dataloader = data_module.test_dataloader()"
   ]
  },
  {
   "cell_type": "markdown",
   "metadata": {},
   "source": [
    "Prepare landing folder and label names"
   ]
  },
  {
   "cell_type": "code",
   "execution_count": 9,
   "metadata": {},
   "outputs": [],
   "source": [
    "sanity_check = ROOT_DIR+\"/reports/figures/sanity_check\"\n",
    "\n",
    "if os.path.exists(sanity_check):\n",
    "    shutil.rmtree(sanity_check)\n",
    "    \n",
    "os.makedirs(sanity_check, exist_ok=True)"
   ]
  },
  {
   "cell_type": "markdown",
   "metadata": {},
   "source": [
    "## Sanity check labels"
   ]
  },
  {
   "cell_type": "markdown",
   "metadata": {},
   "source": [
    "Loop through images and draw labels (use show if not on HPC)"
   ]
  },
  {
   "cell_type": "code",
   "execution_count": 10,
   "metadata": {},
   "outputs": [],
   "source": [
    "for i, batch in enumerate(test_dataloader):\n",
    "    # if i>50:\n",
    "    #     break\n",
    "    image, targets = batch\n",
    "    \n",
    "\n",
    "    boxes = targets[0][\"boxes\"]\n",
    "    labels = targets[0][\"labels\"]\n",
    "    masks = targets[0][\"masks\"]\n",
    "    label_names = [CLASS_LOOKUP[\"bbox_rev\"][label.item()] for label in labels]\n",
    "\n",
    "    \n",
    "    img = image[0].mul(255).type(torch.uint8)\n",
    "\n",
    "    scores = [None]*len(boxes)\n",
    "\n",
    "\n",
    "    drawn_image = draw_bounding_boxes(image=img, boxes=boxes, labels=label_names, scores=scores)\n",
    "    drawn_image = draw_segmentation_masks(drawn_image, masks, alpha=0.5, colors=\"green\")\n",
    "\n",
    "    \n",
    "    image_pil = T.ToPILImage()(drawn_image)\n",
    "    image_pil.save(sanity_check+\"/{}.png\".format(i))\n",
    "    # image_pil.show()"
   ]
  }
 ],
 "metadata": {
  "kernelspec": {
   "display_name": "multitask-mayhem",
   "language": "python",
   "name": "python3"
  },
  "language_info": {
   "codemirror_mode": {
    "name": "ipython",
    "version": 3
   },
   "file_extension": ".py",
   "mimetype": "text/x-python",
   "name": "python",
   "nbconvert_exporter": "python",
   "pygments_lexer": "ipython3",
   "version": "3.9.15"
  },
  "orig_nbformat": 4,
  "vscode": {
   "interpreter": {
    "hash": "452d6fdf42435ab38885e9f302edb73591f4d0bccfe3dd654580d102e803bc4e"
   }
  }
 },
 "nbformat": 4,
 "nbformat_minor": 2
}

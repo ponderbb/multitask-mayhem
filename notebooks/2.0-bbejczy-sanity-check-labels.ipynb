{
 "cells": [
  {
   "cell_type": "markdown",
   "metadata": {},
   "source": [
    "# Visualization of results"
   ]
  },
  {
   "cell_type": "markdown",
   "metadata": {},
   "source": [
    "Load modules and constants"
   ]
  },
  {
   "cell_type": "code",
   "execution_count": 1,
   "metadata": {},
   "outputs": [
    {
     "name": "stderr",
     "output_type": "stream",
     "text": [
      "/home/bnbj/miniconda3/envs/multitask-mayhem/lib/python3.9/site-packages/tqdm/auto.py:22: TqdmWarning: IProgress not found. Please update jupyter and ipywidgets. See https://ipywidgets.readthedocs.io/en/stable/user_install.html\n",
      "  from .autonotebook import tqdm as notebook_tqdm\n"
     ]
    }
   ],
   "source": [
    "import shutil\n",
    "import os\n",
    "import src.utils as utils\n",
    "from src.data.dataloader import mtlDataModule\n",
    "\n",
    "from src.data.manifests import generate_manifest\n",
    "\n",
    "import torchvision.transforms as T\n",
    "from torchvision.utils import draw_bounding_boxes, draw_segmentation_masks\n",
    "from PIL import Image\n",
    "from pathlib import Path\n",
    "\n",
    "from src.utils import load_yaml\n",
    "import torch\n",
    "\n",
    "ROOT_DIR = \"/home/bnbj/repos/multitask-mayhem\"\n",
    "\n",
    "os.chdir(ROOT_DIR)\n",
    "\n",
    "CLASS_LOOKUP = load_yaml(ROOT_DIR+\"/configs/class_lookup.yaml\")"
   ]
  },
  {
   "cell_type": "markdown",
   "metadata": {},
   "source": [
    "Get config to initialize `pl.DataModule` and create dataloaders"
   ]
  },
  {
   "cell_type": "code",
   "execution_count": 2,
   "metadata": {},
   "outputs": [
    {
     "name": "stderr",
     "output_type": "stream",
     "text": [
      "100%|██████████| 1/1 [00:00<00:00,  1.59it/s]\n"
     ]
    },
    {
     "name": "stdout",
     "output_type": "stream",
     "text": [
      "True\n"
     ]
    }
   ],
   "source": [
    "config_file = ROOT_DIR + \"/configs/debug_foo.yaml\"\n",
    "\n",
    "\n",
    "data_module = mtlDataModule(config_path=config_file)\n",
    "\n",
    "seg, det = False, False\n",
    "if data_module.config[\"model\"] in [\"fasterrcnn\", \"fasterrcnn_mobilenetv3\", \"ssdlite\"]:\n",
    "    det = True\n",
    "elif data_module.config[\"model\"] in [\"deeplabv3\"]:\n",
    "    seg = True\n",
    "\n",
    "data_module.config[\"batch_size\"] = 1\n",
    "data_module.config[\"num_workers\"] = 0\n",
    "data_module.config[\"shuffle\"] = False\n",
    "print(torch.cuda.is_available())\n",
    "\n",
    "data_module.prepare_data()\n",
    "data_module.setup(stage=\"fit\")\n",
    "train_dataloader = data_module.train_dataloader()\n",
    "data_module.setup(stage=\"validate\")\n",
    "valid_dataloader = data_module.val_dataloader()\n",
    "data_module.setup(stage=\"test\")\n",
    "test_dataloader = data_module.test_dataloader()"
   ]
  },
  {
   "cell_type": "markdown",
   "metadata": {},
   "source": [
    "Prepare landing folder and label names"
   ]
  },
  {
   "cell_type": "code",
   "execution_count": 5,
   "metadata": {},
   "outputs": [],
   "source": [
    "sanity_check = ROOT_DIR+\"/notebooks/sanity_check\"\n",
    "\n",
    "if os.path.exists(sanity_check):\n",
    "    shutil.rmtree(sanity_check)\n",
    "    \n",
    "os.makedirs(sanity_check, exist_ok=True)"
   ]
  },
  {
   "cell_type": "markdown",
   "metadata": {},
   "source": [
    "## Sanity check labels"
   ]
  },
  {
   "cell_type": "markdown",
   "metadata": {},
   "source": [
    "Loop through images and draw labels (use show if not on HPC)"
   ]
  },
  {
   "cell_type": "code",
   "execution_count": 6,
   "metadata": {},
   "outputs": [],
   "source": [
    "for i, batch in enumerate(train_dataloader):\n",
    "    image, targets = batch\n",
    "    \n",
    "    if det:\n",
    "        boxes = targets[0][\"boxes\"]\n",
    "        labels = targets[0][\"labels\"]\n",
    "        masks = targets[0][\"masks\"]\n",
    "        label_names = [CLASS_LOOKUP[\"bbox_rev\"][label.item()] for label in labels]\n",
    "    elif seg:\n",
    "        masks = targets[0]\n",
    "\n",
    "    \n",
    "    img = image[0].mul(255).type(torch.uint8)\n",
    "\n",
    "    if det:\n",
    "        drawn_image = draw_bounding_boxes(img, boxes, label_names)\n",
    "        drawn_image = draw_segmentation_masks(drawn_image, masks, alpha=0.5, colors=\"green\")\n",
    "    elif seg:\n",
    "        drawn_image = draw_segmentation_masks(img, masks, alpha=0.5, colors=\"green\")\n",
    "    \n",
    "    image_pil = T.ToPILImage()(drawn_image)\n",
    "    image_pil.save(sanity_check+\"/{}.png\".format(i))\n",
    "    # image_pil.show()"
   ]
  }
 ],
 "metadata": {
  "kernelspec": {
   "display_name": "Python 3.9.15 ('multitask-mayhem')",
   "language": "python",
   "name": "python3"
  },
  "language_info": {
   "codemirror_mode": {
    "name": "ipython",
    "version": 3
   },
   "file_extension": ".py",
   "mimetype": "text/x-python",
   "name": "python",
   "nbconvert_exporter": "python",
   "pygments_lexer": "ipython3",
   "version": "3.9.15 (main, Nov 24 2022, 14:31:59) \n[GCC 11.2.0]"
  },
  "orig_nbformat": 4,
  "vscode": {
   "interpreter": {
    "hash": "fb71c2371d005dd775ea25e722093bd9e2e673fc6da8da55d0d718129c6a4c24"
   }
  }
 },
 "nbformat": 4,
 "nbformat_minor": 2
}

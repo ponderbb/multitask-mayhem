{
 "cells": [
  {
   "cell_type": "code",
   "execution_count": 1,
   "metadata": {},
   "outputs": [],
   "source": [
    "import sys\n",
    "import os\n",
    "import pandas as pd\n",
    "import numpy as np\n",
    "\n",
    "# move back from notebooks to root\n",
    "os.chdir(\"..\")\n",
    "\n",
    "from src.data.manifests import generate_manifest\n",
    "import src.utils as utils\n",
    "from src.data.dataloader import mtlDataModule\n",
    "\n",
    "COLLECTIONS = [\n",
    "  \"2022-09-23-10-17-46\",\n",
    "  \"2022-09-23-10-39-51\",\n",
    "  \"2022-09-23-11-03-28\",\n",
    "  \"2022-09-23-11-09-28\",\n",
    "  \"2022-10-19-10-44-31\",\n",
    "  \"2022-10-19-11-07-11\",\n",
    "  \"2022-10-19-11-15-59\",\n",
    "  \"2022-10-19-11-20-39\"\n",
    "]\n",
    "\n",
    "CONFIG = \"configs/debug_foo.yaml\"\n",
    "\n",
    "class_lookup = utils.load_yaml(\"configs/class_lookup.yaml\")\n"
   ]
  },
  {
   "cell_type": "code",
   "execution_count": 2,
   "metadata": {},
   "outputs": [
    {
     "name": "stderr",
     "output_type": "stream",
     "text": [
      "100%|██████████| 8/8 [00:08<00:00,  1.08s/it]\n"
     ]
    }
   ],
   "source": [
    "# utils.logging_setup(CONFIG)\n",
    "\n",
    "data_module = mtlDataModule(CONFIG)\n",
    "data_module.prepare_data()\n",
    "# data_module.setup(stage=\"fit\")\n",
    "# dataloader = data_module.val_dataloader()\n",
    "# it = iter(dataloader)\n",
    "# first = next(it)\n",
    "# second = next(it)"
   ]
  },
  {
   "cell_type": "code",
   "execution_count": 3,
   "metadata": {},
   "outputs": [],
   "source": [
    "# manifest = generate_manifest(\n",
    "#     collections=COLLECTIONS,\n",
    "#     data_root=\"data/interim\",\n",
    "#     create_mask=False\n",
    "# )"
   ]
  },
  {
   "cell_type": "code",
   "execution_count": 4,
   "metadata": {},
   "outputs": [],
   "source": [
    "def get_class_occurence(manifest:dict) -> list:\n",
    "\n",
    "    class_count = [0,0,0,0]\n",
    "\n",
    "    for row in manifest:\n",
    "        if \"bbox\" in row.keys():\n",
    "            for bbox in row[\"bbox\"]:\n",
    "                class_count[bbox[\"class\"]-1] += 1\n",
    "\n",
    "    # for idx, class_type in enumerate(class_count):\n",
    "        # print(\"Class {} has {} occurences\".format(class_lookup[\"bbox_rev\"][idx+1], class_type))\n",
    "\n",
    "    return class_count"
   ]
  },
  {
   "cell_type": "code",
   "execution_count": 5,
   "metadata": {},
   "outputs": [],
   "source": [
    "all = get_class_occurence(data_module.manifests)\n",
    "train = get_class_occurence(data_module.train_split)\n",
    "valid = get_class_occurence(data_module.valid_split)\n",
    "test = get_class_occurence(data_module.test_split)"
   ]
  },
  {
   "cell_type": "code",
   "execution_count": 6,
   "metadata": {},
   "outputs": [
    {
     "data": {
      "text/html": [
       "<div>\n",
       "<style scoped>\n",
       "    .dataframe tbody tr th:only-of-type {\n",
       "        vertical-align: middle;\n",
       "    }\n",
       "\n",
       "    .dataframe tbody tr th {\n",
       "        vertical-align: top;\n",
       "    }\n",
       "\n",
       "    .dataframe thead th {\n",
       "        text-align: right;\n",
       "    }\n",
       "</style>\n",
       "<table border=\"1\" class=\"dataframe\">\n",
       "  <thead>\n",
       "    <tr style=\"text-align: right;\">\n",
       "      <th></th>\n",
       "      <th>person</th>\n",
       "      <th>box</th>\n",
       "      <th>agv</th>\n",
       "      <th>forklift</th>\n",
       "    </tr>\n",
       "  </thead>\n",
       "  <tbody>\n",
       "    <tr>\n",
       "      <th>all</th>\n",
       "      <td>1401</td>\n",
       "      <td>3624</td>\n",
       "      <td>414</td>\n",
       "      <td>732</td>\n",
       "    </tr>\n",
       "    <tr>\n",
       "      <th>train</th>\n",
       "      <td>978</td>\n",
       "      <td>2501</td>\n",
       "      <td>284</td>\n",
       "      <td>538</td>\n",
       "    </tr>\n",
       "    <tr>\n",
       "      <th>valid</th>\n",
       "      <td>275</td>\n",
       "      <td>740</td>\n",
       "      <td>70</td>\n",
       "      <td>133</td>\n",
       "    </tr>\n",
       "    <tr>\n",
       "      <th>test</th>\n",
       "      <td>148</td>\n",
       "      <td>383</td>\n",
       "      <td>60</td>\n",
       "      <td>61</td>\n",
       "    </tr>\n",
       "  </tbody>\n",
       "</table>\n",
       "</div>"
      ],
      "text/plain": [
       "       person   box  agv  forklift\n",
       "all      1401  3624  414       732\n",
       "train     978  2501  284       538\n",
       "valid     275   740   70       133\n",
       "test      148   383   60        61"
      ]
     },
     "execution_count": 6,
     "metadata": {},
     "output_type": "execute_result"
    }
   ],
   "source": [
    "repr_df = pd.DataFrame(columns=[\"person\", \"box\", \"agv\", \"forklift\"])\n",
    "\n",
    "repr_df.loc[\"all\"] = all\n",
    "repr_df.loc[\"train\"] = train\n",
    "repr_df.loc[\"valid\"] = valid\n",
    "repr_df.loc[\"test\"] = test\n",
    "\n",
    "\n",
    "repr_df"
   ]
  },
  {
   "cell_type": "code",
   "execution_count": 7,
   "metadata": {},
   "outputs": [
    {
     "data": {
      "text/plain": [
       "<AxesSubplot: title={'center': 'Class occurences in data splits'}>"
      ]
     },
     "execution_count": 7,
     "metadata": {},
     "output_type": "execute_result"
    },
    {
     "data": {
      "image/png": "[encoded data removed]",
      "text/plain": [
       "<Figure size 640x480 with 1 Axes>"
      ]
     },
     "metadata": {},
     "output_type": "display_data"
    }
   ],
   "source": [
    "repr_df.plot(kind=\"bar\", title=\"Class occurences in data splits\")"
   ]
  },
  {
   "cell_type": "code",
   "execution_count": 8,
   "metadata": {},
   "outputs": [
    {
     "ename": "TypeError",
     "evalue": "unsupported operand type(s) for /: 'list' and 'list'",
     "output_type": "error",
     "traceback": [
      "\u001b[0;31m---------------------------------------------------------------------------\u001b[0m",
      "\u001b[0;31mTypeError\u001b[0m                                 Traceback (most recent call last)",
      "Cell \u001b[0;32mIn [8], line 3\u001b[0m\n\u001b[1;32m      1\u001b[0m perc_df \u001b[39m=\u001b[39m pd\u001b[39m.\u001b[39mDataFrame(columns\u001b[39m=\u001b[39m[\u001b[39m\"\u001b[39m\u001b[39mtrain\u001b[39m\u001b[39m\"\u001b[39m, \u001b[39m\"\u001b[39m\u001b[39mtest\u001b[39m\u001b[39m\"\u001b[39m, \u001b[39m\"\u001b[39m\u001b[39mvalid\u001b[39m\u001b[39m\"\u001b[39m])\n\u001b[0;32m----> 3\u001b[0m perc_df[\u001b[39m\"\u001b[39m\u001b[39mtrain\u001b[39m\u001b[39m\"\u001b[39m] \u001b[39m=\u001b[39m ((train\u001b[39m/\u001b[39;49m\u001b[39mall\u001b[39;49m)\u001b[39m*\u001b[39m\u001b[39m100\u001b[39m)\u001b[39m.\u001b[39mround(\u001b[39m2\u001b[39m)\n\u001b[1;32m      4\u001b[0m perc_df[\u001b[39m\"\u001b[39m\u001b[39mtest\u001b[39m\u001b[39m\"\u001b[39m] \u001b[39m=\u001b[39m ((test\u001b[39m/\u001b[39m\u001b[39mall\u001b[39m)\u001b[39m*\u001b[39m\u001b[39m100\u001b[39m)\u001b[39m.\u001b[39mround(\u001b[39m2\u001b[39m)\n\u001b[1;32m      5\u001b[0m perc_df[\u001b[39m\"\u001b[39m\u001b[39mvalid\u001b[39m\u001b[39m\"\u001b[39m] \u001b[39m=\u001b[39m ((valid\u001b[39m/\u001b[39m\u001b[39mall\u001b[39m)\u001b[39m*\u001b[39m\u001b[39m100\u001b[39m)\u001b[39m.\u001b[39mround(\u001b[39m2\u001b[39m)\n",
      "\u001b[0;31mTypeError\u001b[0m: unsupported operand type(s) for /: 'list' and 'list'"
     ]
    }
   ],
   "source": [
    "perc_df = pd.DataFrame(columns=[\"train\", \"test\", \"valid\"])\n",
    "\n",
    "perc_df[\"train\"] = ((train/all)*100).round(2)\n",
    "perc_df[\"test\"] = ((test/all)*100).round(2)\n",
    "perc_df[\"valid\"] = ((valid/all)*100).round(2)\n",
    "\n",
    "perc_df.plot.bar(stacked=True, xlabel = [\"person\", \"box\", \"agv\", \"forklift\"], title=\"Class occurences in data splits (percentage)\")\n",
    "\n"
   ]
  }
 ],
 "metadata": {
  "kernelspec": {
   "display_name": "multitask-mayhem",
   "language": "python",
   "name": "python3"
  },
  "language_info": {
   "codemirror_mode": {
    "name": "ipython",
    "version": 3
   },
   "file_extension": ".py",
   "mimetype": "text/x-python",
   "name": "python",
   "nbconvert_exporter": "python",
   "pygments_lexer": "ipython3",
   "version": "3.9.13 (main, Oct 13 2022, 21:15:33) \n[GCC 11.2.0]"
  },
  "orig_nbformat": 4,
  "vscode": {
   "interpreter": {
    "hash": "5c05354d1d8d5a2fe168a69f917da611f3ea083bde8d80309721477b6d7167ae"
   }
  }
 },
 "nbformat": 4,
 "nbformat_minor": 2
}

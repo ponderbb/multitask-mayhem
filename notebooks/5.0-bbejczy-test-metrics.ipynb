{
 "cells": [
  {
   "cell_type": "code",
   "execution_count": 18,
   "metadata": {},
   "outputs": [],
   "source": [
    "import glob\n",
    "import os\n",
    "from distutils.dir_util import copy_tree\n",
    "import shutil\n",
    "from pathlib import Path\n",
    "from tqdm import tqdm\n",
    "\n",
    "WORKDIR = \"/work3/s202821/models/\"\n",
    "OUTDIR = \"/work3/s202821/emp_models/\""
   ]
  },
  {
   "cell_type": "code",
   "execution_count": 19,
   "metadata": {},
   "outputs": [],
   "source": [
    "runs_list = [\n",
    "    \"frcnn-hybrid_dwa-10v1-pcgrad_23-02-21T144644\",\n",
    "    \"frcnn-hybrid_bmtl-graddrop_23-02-20T140735\",\n",
    "    \"frcnn-hybrid_15v1_23-02-20T132858\",\n",
    "    \"frcnn-hybrid_bmtl-cagrad_23-02-20T132609\",\n",
    "    \"frcnn-hybrid_bmtl-pcgrad_23-02-20T132549\",\n",
    "    \"frcnn-hybrid_10v1-graddrop_23-02-19T151850\",\n",
    "    \"frcnn-hybrid_10v1-cagrad_23-02-19T151821\",\n",
    "    \"frcnn-hybrid_10v1-pcgrad_23-02-19T151738\",\n",
    "    \"frcnn-hybrid_dwa-cagrad_23-02-16T235038\",\n",
    "    \"frcnn-hybrid_dwa-pcgrad_23-02-16T235026\",\n",
    "    \"frcnn-hybrid_dwa_23-02-16T234921\",\n",
    "    \"frcnn-hybrid_dwa-graddrop_23-02-16T234854\",\n",
    "    \"frcnn-hybrid_uc-cagrad_23-02-16T140258\",\n",
    "    \"frcnn-hybrid_uc-pcgrad_23-02-16T013822\",\n",
    "    \"frcnn-hybrid_relative_23-02-16T004645\",\n",
    "    \"frcnn-hybrid_bmtl_23-02-16T003206\",\n",
    "    \"frcnn-hybrid_5v1_23-02-16T001810\",\n",
    "    \"frcnn-hybrid_10v1_23-02-16T001236\",\n",
    "    \"frcnn-hybrid_uc-graddrop_23-02-16T000240\",\n",
    "    \"frcnn-hybrid_uncertainty_23-02-16T000024\",\n",
    "    \"frcnn-hybrid_cagrad_23-02-15T235953\",\n",
    "    \"frcnn-hybrid_graddrop_23-02-15T235924\",\n",
    "    \"frcnn-hybrid_pcgrad_23-02-15T155512\",\n",
    "    \"frcnn-hybrid_equal_23-02-14T235356\",\n",
    "    \"ssdlite-hybrid_equal_23-02-14T235500\",\n",
    "    \"lraspp-hybrid_equal_23-02-14T235345\",\n",
    "    \"deeplabv3_23-02-14T235445\",\n",
    "    \"ssdlite_23-02-14T235429\",\n",
    "    \"frcnn_23-02-14T235417\",\n",
    "]\n",
    "\n",
    "for run in runs_list:\n",
    "    assert Path(WORKDIR + run).exists(), f\"{run} does not exist\""
   ]
  },
  {
   "cell_type": "code",
   "execution_count": 20,
   "metadata": {},
   "outputs": [
    {
     "name": "stderr",
     "output_type": "stream",
     "text": [
      "100%|██████████| 29/29 [00:19<00:00,  1.46it/s]\n"
     ]
    }
   ],
   "source": [
    "for run in tqdm(runs_list):\n",
    "   shutil.copytree(WORKDIR + run, OUTDIR + run)\n",
    "    # copy_tree(WORKDIR + run, OUTDIR + run)"
   ]
  }
 ],
 "metadata": {
  "kernelspec": {
   "display_name": "multitask-mayhem",
   "language": "python",
   "name": "python3"
  },
  "language_info": {
   "codemirror_mode": {
    "name": "ipython",
    "version": 3
   },
   "file_extension": ".py",
   "mimetype": "text/x-python",
   "name": "python",
   "nbconvert_exporter": "python",
   "pygments_lexer": "ipython3",
   "version": "3.9.15"
  },
  "orig_nbformat": 4,
  "vscode": {
   "interpreter": {
    "hash": "452d6fdf42435ab38885e9f302edb73591f4d0bccfe3dd654580d102e803bc4e"
   }
  }
 },
 "nbformat": 4,
 "nbformat_minor": 2
}

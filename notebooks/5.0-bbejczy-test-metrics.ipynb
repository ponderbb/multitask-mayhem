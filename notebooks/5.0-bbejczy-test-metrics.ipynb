{
 "cells": [
  {
   "cell_type": "code",
   "execution_count": 1,
   "metadata": {},
   "outputs": [
    {
     "name": "stderr",
     "output_type": "stream",
     "text": [
      "/home/bnbj/miniconda3/envs/multitask-mayhem/lib/python3.9/site-packages/tqdm/auto.py:22: TqdmWarning: IProgress not found. Please update jupyter and ipywidgets. See https://ipywidgets.readthedocs.io/en/stable/user_install.html\n",
      "  from .autonotebook import tqdm as notebook_tqdm\n"
     ]
    }
   ],
   "source": [
    "import pytorch_lightning as pl\n",
    "import pandas as pd\n",
    "import os\n",
    "\n",
    "from src.misc.extracting_runs import extract_runs\n",
    "import src.utils as utils\n",
    "from src.data.dataloader import mtlDataModule\n",
    "from src.pipeline.lightning_frame import mtlMayhemModule\n",
    "\n",
    "WORKDIR_HPC = \"/work3/s202821/models/\"\n",
    "OUTDIR_HPC = \"/work3/s202821/emp_models/\"\n",
    "\n",
    "WORKDIR_LOCAL = \"/home/bnbj/repos/multitask-mayhem/\"\n",
    "\n",
    "os.chdir(WORKDIR_LOCAL)"
   ]
  },
  {
   "cell_type": "code",
   "execution_count": 9,
   "metadata": {},
   "outputs": [
    {
     "data": {
      "text/plain": [
       "'/home/bnbj/repos/multitask-mayhem'"
      ]
     },
     "execution_count": 9,
     "metadata": {},
     "output_type": "execute_result"
    }
   ],
   "source": [
    "os.getcwd()"
   ]
  },
  {
   "attachments": {},
   "cell_type": "markdown",
   "metadata": {},
   "source": [
    "## Separate runs on HPC"
   ]
  },
  {
   "cell_type": "code",
   "execution_count": 2,
   "metadata": {},
   "outputs": [],
   "source": [
    "# extract_runs(workdir = WORKDIR_HPC, outdir = OUTDIR_HPC)"
   ]
  },
  {
   "attachments": {},
   "cell_type": "markdown",
   "metadata": {},
   "source": [
    "## Run model on test set"
   ]
  },
  {
   "cell_type": "code",
   "execution_count": 3,
   "metadata": {},
   "outputs": [
    {
     "data": {
      "text/html": [
       "<div>\n",
       "<style scoped>\n",
       "    .dataframe tbody tr th:only-of-type {\n",
       "        vertical-align: middle;\n",
       "    }\n",
       "\n",
       "    .dataframe tbody tr th {\n",
       "        vertical-align: top;\n",
       "    }\n",
       "\n",
       "    .dataframe thead th {\n",
       "        text-align: right;\n",
       "    }\n",
       "</style>\n",
       "<table border=\"1\" class=\"dataframe\">\n",
       "  <thead>\n",
       "    <tr style=\"text-align: right;\">\n",
       "      <th></th>\n",
       "      <th>name</th>\n",
       "    </tr>\n",
       "  </thead>\n",
       "  <tbody>\n",
       "    <tr>\n",
       "      <th>0</th>\n",
       "      <td>frcnn-hybrid_10v1_480x640_23-02-22T123517</td>\n",
       "    </tr>\n",
       "    <tr>\n",
       "      <th>1</th>\n",
       "      <td>frcnn-hybrid_480x640_23-02-22T115457</td>\n",
       "    </tr>\n",
       "    <tr>\n",
       "      <th>2</th>\n",
       "      <td>frcnn-hybrid_2v1_23-02-21T182529</td>\n",
       "    </tr>\n",
       "    <tr>\n",
       "      <th>3</th>\n",
       "      <td>frcnn-hybrid_dwa-10v1-cagrad_23-02-21T182427</td>\n",
       "    </tr>\n",
       "    <tr>\n",
       "      <th>4</th>\n",
       "      <td>frcnn-hybrid_dwa-10v1-graddrop_23-02-21T182345</td>\n",
       "    </tr>\n",
       "  </tbody>\n",
       "</table>\n",
       "</div>"
      ],
      "text/plain": [
       "                                             name\n",
       "0       frcnn-hybrid_10v1_480x640_23-02-22T123517\n",
       "1            frcnn-hybrid_480x640_23-02-22T115457\n",
       "2                frcnn-hybrid_2v1_23-02-21T182529\n",
       "3    frcnn-hybrid_dwa-10v1-cagrad_23-02-21T182427\n",
       "4  frcnn-hybrid_dwa-10v1-graddrop_23-02-21T182345"
      ]
     },
     "execution_count": 3,
     "metadata": {},
     "output_type": "execute_result"
    }
   ],
   "source": [
    "runs_df = pd.read_csv(\"models/emp_models/runs_list.csv\", index_col=0)\n",
    "runs_list = runs_df[\"name\"].values.tolist()\n",
    "runs_df.head()"
   ]
  },
  {
   "cell_type": "code",
   "execution_count": 4,
   "metadata": {},
   "outputs": [
    {
     "data": {
      "text/plain": [
       "'frcnn-hybrid_480x640_23-02-22T115457'"
      ]
     },
     "execution_count": 4,
     "metadata": {},
     "output_type": "execute_result"
    }
   ],
   "source": [
    "run_name = runs_list[1]\n",
    "run_name"
   ]
  },
  {
   "cell_type": "code",
   "execution_count": 5,
   "metadata": {},
   "outputs": [],
   "source": [
    "config_path = f\"models/emp_models/{run_name}/{run_name}.yaml\"\n",
    "temp_path = f\"models/emp_models/{run_name}/temp_{run_name}.yaml\"\n",
    "\n",
    "config = utils.load_yaml(config_path)\n",
    "\n",
    "utils.change_paths_in_config(\n",
    "    input_yaml = config_path,\n",
    "    out_yaml = config_path,\n",
    "    data_root = \"data/interim\",\n",
    "    test_manifest = \"data/test/manifest.json\",\n",
    "    model_out_path = \"models/emp_models\"\n",
    ")\n",
    "\n",
    "\n"
   ]
  },
  {
   "cell_type": "code",
   "execution_count": 6,
   "metadata": {},
   "outputs": [
    {
     "name": "stderr",
     "output_type": "stream",
     "text": [
      "100%|██████████| 8/8 [00:04<00:00,  1.72it/s]\n"
     ]
    }
   ],
   "source": [
    "# initialize data pipeline\n",
    "lightning_datamodule = mtlDataModule(config_path)\n",
    "\n",
    "# initialize training pipeline\n",
    "lightning_module = mtlMayhemModule(config_path)"
   ]
  },
  {
   "cell_type": "code",
   "execution_count": 7,
   "metadata": {},
   "outputs": [
    {
     "name": "stderr",
     "output_type": "stream",
     "text": [
      "GPU available: True (cuda), used: True\n",
      "TPU available: False, using: 0 TPU cores\n",
      "IPU available: False, using: 0 IPUs\n",
      "HPU available: False, using: 0 HPUs\n",
      "Missing logger folder: models/emp_models/frcnn-hybrid_480x640_23-02-22T115457/checkpoints/lightning_logs\n",
      "LOCAL_RANK: 0 - CUDA_VISIBLE_DEVICES: [0]\n",
      "/home/bnbj/miniconda3/envs/multitask-mayhem/lib/python3.9/site-packages/pytorch_lightning/trainer/connectors/data_connector.py:224: PossibleUserWarning: The dataloader, test_dataloader 0, does not have many workers which may be a bottleneck. Consider increasing the value of the `num_workers` argument` (try 4 which is the number of cpus on this machine) in the `DataLoader` init to improve performance.\n",
      "  rank_zero_warn(\n"
     ]
    },
    {
     "name": "stdout",
     "output_type": "stream",
     "text": [
      "Testing DataLoader 0: 100%|██████████| 260/260 [00:11<00:00, 22.68it/s]\n"
     ]
    },
    {
     "data": {
      "text/plain": [
       "[{}]"
      ]
     },
     "execution_count": 7,
     "metadata": {},
     "output_type": "execute_result"
    }
   ],
   "source": [
    "# TRAINER #\n",
    "trainer = pl.Trainer(\n",
    "    accelerator=\"auto\",\n",
    "    devices=1,\n",
    "    enable_checkpointing=not (lightning_datamodule.config[\"debug\"]),\n",
    "    default_root_dir=lightning_module.path_dict[\"checkpoints_path\"],\n",
    ")\n",
    "\n",
    "# start training\n",
    "trainer.test(model=lightning_module, datamodule=lightning_datamodule)"
   ]
  }
 ],
 "metadata": {
  "kernelspec": {
   "display_name": "multitask-mayhem",
   "language": "python",
   "name": "python3"
  },
  "language_info": {
   "codemirror_mode": {
    "name": "ipython",
    "version": 3
   },
   "file_extension": ".py",
   "mimetype": "text/x-python",
   "name": "python",
   "nbconvert_exporter": "python",
   "pygments_lexer": "ipython3",
   "version": "3.9.15"
  },
  "orig_nbformat": 4,
  "vscode": {
   "interpreter": {
    "hash": "2caba22eca3b8e03bae005f76f65f0bc30813bc5024a8738418f189b74fcc4d5"
   }
  }
 },
 "nbformat": 4,
 "nbformat_minor": 2
}
